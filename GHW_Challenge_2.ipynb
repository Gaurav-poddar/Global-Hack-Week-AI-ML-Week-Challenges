{
  "nbformat": 4,
  "nbformat_minor": 0,
  "metadata": {
    "colab": {
      "provenance": [],
      "authorship_tag": "ABX9TyO3MC3dbRFjCwZfA8AmCQ6v",
      "include_colab_link": true
    },
    "kernelspec": {
      "name": "python3",
      "display_name": "Python 3"
    },
    "language_info": {
      "name": "python"
    }
  },
  "cells": [
    {
      "cell_type": "markdown",
      "metadata": {
        "id": "view-in-github",
        "colab_type": "text"
      },
      "source": [
        "<a href=\"https://colab.research.google.com/github/Gaurav-poddar/Global-Hack-Week-AI-ML-Week-Challenges/blob/main/GHW_Challenge_2.ipynb\" target=\"_parent\"><img src=\"https://colab.research.google.com/assets/colab-badge.svg\" alt=\"Open In Colab\"/></a>"
      ]
    },
    {
      "cell_type": "code",
      "execution_count": 1,
      "metadata": {
        "id": "FPgQbICfS13s"
      },
      "outputs": [],
      "source": [
        "# first, we import the necessary libraries\n",
        "import pandas as pd\n",
        "import numpy as np\n",
        "import matplotlib.pyplot as plt\n",
        "from sklearn.cluster import KMeans"
      ]
    },
    {
      "cell_type": "code",
      "source": [
        "df  = pd.read_csv('/content/faithful.csv',delimiter='\\t')\n",
        "df.head()"
      ],
      "metadata": {
        "colab": {
          "base_uri": "https://localhost:8080/",
          "height": 206
        },
        "id": "dhpdSPNFTVRT",
        "outputId": "9578de9a-ce46-475a-f0b1-d03e20aa2639"
      },
      "execution_count": 2,
      "outputs": [
        {
          "output_type": "execute_result",
          "data": {
            "text/plain": [
              "   eruption  waiting\n",
              "0     3.600       79\n",
              "1     1.800       54\n",
              "2     3.333       74\n",
              "3     2.283       62\n",
              "4     4.533       85"
            ],
            "text/html": [
              "\n",
              "  <div id=\"df-37a30d0e-095e-4d34-ad3e-30f3af8ab05a\">\n",
              "    <div class=\"colab-df-container\">\n",
              "      <div>\n",
              "<style scoped>\n",
              "    .dataframe tbody tr th:only-of-type {\n",
              "        vertical-align: middle;\n",
              "    }\n",
              "\n",
              "    .dataframe tbody tr th {\n",
              "        vertical-align: top;\n",
              "    }\n",
              "\n",
              "    .dataframe thead th {\n",
              "        text-align: right;\n",
              "    }\n",
              "</style>\n",
              "<table border=\"1\" class=\"dataframe\">\n",
              "  <thead>\n",
              "    <tr style=\"text-align: right;\">\n",
              "      <th></th>\n",
              "      <th>eruption</th>\n",
              "      <th>waiting</th>\n",
              "    </tr>\n",
              "  </thead>\n",
              "  <tbody>\n",
              "    <tr>\n",
              "      <th>0</th>\n",
              "      <td>3.600</td>\n",
              "      <td>79</td>\n",
              "    </tr>\n",
              "    <tr>\n",
              "      <th>1</th>\n",
              "      <td>1.800</td>\n",
              "      <td>54</td>\n",
              "    </tr>\n",
              "    <tr>\n",
              "      <th>2</th>\n",
              "      <td>3.333</td>\n",
              "      <td>74</td>\n",
              "    </tr>\n",
              "    <tr>\n",
              "      <th>3</th>\n",
              "      <td>2.283</td>\n",
              "      <td>62</td>\n",
              "    </tr>\n",
              "    <tr>\n",
              "      <th>4</th>\n",
              "      <td>4.533</td>\n",
              "      <td>85</td>\n",
              "    </tr>\n",
              "  </tbody>\n",
              "</table>\n",
              "</div>\n",
              "      <button class=\"colab-df-convert\" onclick=\"convertToInteractive('df-37a30d0e-095e-4d34-ad3e-30f3af8ab05a')\"\n",
              "              title=\"Convert this dataframe to an interactive table.\"\n",
              "              style=\"display:none;\">\n",
              "        \n",
              "  <svg xmlns=\"http://www.w3.org/2000/svg\" height=\"24px\"viewBox=\"0 0 24 24\"\n",
              "       width=\"24px\">\n",
              "    <path d=\"M0 0h24v24H0V0z\" fill=\"none\"/>\n",
              "    <path d=\"M18.56 5.44l.94 2.06.94-2.06 2.06-.94-2.06-.94-.94-2.06-.94 2.06-2.06.94zm-11 1L8.5 8.5l.94-2.06 2.06-.94-2.06-.94L8.5 2.5l-.94 2.06-2.06.94zm10 10l.94 2.06.94-2.06 2.06-.94-2.06-.94-.94-2.06-.94 2.06-2.06.94z\"/><path d=\"M17.41 7.96l-1.37-1.37c-.4-.4-.92-.59-1.43-.59-.52 0-1.04.2-1.43.59L10.3 9.45l-7.72 7.72c-.78.78-.78 2.05 0 2.83L4 21.41c.39.39.9.59 1.41.59.51 0 1.02-.2 1.41-.59l7.78-7.78 2.81-2.81c.8-.78.8-2.07 0-2.86zM5.41 20L4 18.59l7.72-7.72 1.47 1.35L5.41 20z\"/>\n",
              "  </svg>\n",
              "      </button>\n",
              "      \n",
              "  <style>\n",
              "    .colab-df-container {\n",
              "      display:flex;\n",
              "      flex-wrap:wrap;\n",
              "      gap: 12px;\n",
              "    }\n",
              "\n",
              "    .colab-df-convert {\n",
              "      background-color: #E8F0FE;\n",
              "      border: none;\n",
              "      border-radius: 50%;\n",
              "      cursor: pointer;\n",
              "      display: none;\n",
              "      fill: #1967D2;\n",
              "      height: 32px;\n",
              "      padding: 0 0 0 0;\n",
              "      width: 32px;\n",
              "    }\n",
              "\n",
              "    .colab-df-convert:hover {\n",
              "      background-color: #E2EBFA;\n",
              "      box-shadow: 0px 1px 2px rgba(60, 64, 67, 0.3), 0px 1px 3px 1px rgba(60, 64, 67, 0.15);\n",
              "      fill: #174EA6;\n",
              "    }\n",
              "\n",
              "    [theme=dark] .colab-df-convert {\n",
              "      background-color: #3B4455;\n",
              "      fill: #D2E3FC;\n",
              "    }\n",
              "\n",
              "    [theme=dark] .colab-df-convert:hover {\n",
              "      background-color: #434B5C;\n",
              "      box-shadow: 0px 1px 3px 1px rgba(0, 0, 0, 0.15);\n",
              "      filter: drop-shadow(0px 1px 2px rgba(0, 0, 0, 0.3));\n",
              "      fill: #FFFFFF;\n",
              "    }\n",
              "  </style>\n",
              "\n",
              "      <script>\n",
              "        const buttonEl =\n",
              "          document.querySelector('#df-37a30d0e-095e-4d34-ad3e-30f3af8ab05a button.colab-df-convert');\n",
              "        buttonEl.style.display =\n",
              "          google.colab.kernel.accessAllowed ? 'block' : 'none';\n",
              "\n",
              "        async function convertToInteractive(key) {\n",
              "          const element = document.querySelector('#df-37a30d0e-095e-4d34-ad3e-30f3af8ab05a');\n",
              "          const dataTable =\n",
              "            await google.colab.kernel.invokeFunction('convertToInteractive',\n",
              "                                                     [key], {});\n",
              "          if (!dataTable) return;\n",
              "\n",
              "          const docLinkHtml = 'Like what you see? Visit the ' +\n",
              "            '<a target=\"_blank\" href=https://colab.research.google.com/notebooks/data_table.ipynb>data table notebook</a>'\n",
              "            + ' to learn more about interactive tables.';\n",
              "          element.innerHTML = '';\n",
              "          dataTable['output_type'] = 'display_data';\n",
              "          await google.colab.output.renderOutput(dataTable, element);\n",
              "          const docLink = document.createElement('div');\n",
              "          docLink.innerHTML = docLinkHtml;\n",
              "          element.appendChild(docLink);\n",
              "        }\n",
              "      </script>\n",
              "    </div>\n",
              "  </div>\n",
              "  "
            ]
          },
          "metadata": {},
          "execution_count": 2
        }
      ]
    },
    {
      "cell_type": "code",
      "source": [
        "plt.scatter(df['eruption'], df['waiting'])\n",
        "plt.title('Faithful Eruption Dataset')\n",
        "plt.xlabel('Eruption Length (minutes)')\n",
        "plt.ylabel('Waiting Time b/w Eruptions (minutes)')\n"
      ],
      "metadata": {
        "colab": {
          "base_uri": "https://localhost:8080/",
          "height": 312
        },
        "id": "EGRL9USZWiOs",
        "outputId": "2ddcb3da-e32a-42b0-ebee-3c698b372004"
      },
      "execution_count": 3,
      "outputs": [
        {
          "output_type": "execute_result",
          "data": {
            "text/plain": [
              "Text(0, 0.5, 'Waiting Time b/w Eruptions (minutes)')"
            ]
          },
          "metadata": {},
          "execution_count": 3
        },
        {
          "output_type": "display_data",
          "data": {
            "text/plain": [
              "<Figure size 432x288 with 1 Axes>"
            ],
            "image/png": "[encoded data removed]"
          },
          "metadata": {
            "needs_background": "light"
          }
        }
      ]
    },
    {
      "cell_type": "code",
      "source": [
        "# formatting the data to be useful to the KMeans model\n",
        "X = df.values\n",
        "X # each list within the array contains the ordered features for a given record"
      ],
      "metadata": {
        "colab": {
          "base_uri": "https://localhost:8080/"
        },
        "id": "EtWzLjzUXgBm",
        "outputId": "8fbb17f0-9b0d-4086-d794-7842502e7b1c"
      },
      "execution_count": 4,
      "outputs": [
        {
          "output_type": "execute_result",
          "data": {
            "text/plain": [
              "array([[ 3.6  , 79.   ],\n",
              "       [ 1.8  , 54.   ],\n",
              "       [ 3.333, 74.   ],\n",
              "       [ 2.283, 62.   ],\n",
              "       [ 4.533, 85.   ],\n",
              "       [ 2.883, 55.   ],\n",
              "       [ 4.7  , 88.   ],\n",
              "       [ 3.6  , 85.   ],\n",
              "       [ 1.95 , 51.   ],\n",
              "       [ 4.35 , 85.   ],\n",
              "       [ 1.833, 54.   ],\n",
              "       [ 3.917, 84.   ],\n",
              "       [ 4.2  , 78.   ],\n",
              "       [ 1.75 , 47.   ],\n",
              "       [ 4.7  , 83.   ],\n",
              "       [ 2.167, 52.   ],\n",
              "       [ 1.75 , 62.   ],\n",
              "       [ 4.8  , 84.   ],\n",
              "       [ 1.6  , 52.   ],\n",
              "       [ 4.25 , 79.   ],\n",
              "       [ 1.8  , 51.   ],\n",
              "       [ 1.75 , 47.   ],\n",
              "       [ 3.45 , 78.   ],\n",
              "       [ 3.067, 69.   ],\n",
              "       [ 4.533, 74.   ],\n",
              "       [ 3.6  , 83.   ],\n",
              "       [ 1.967, 55.   ],\n",
              "       [ 4.083, 76.   ],\n",
              "       [ 3.85 , 78.   ],\n",
              "       [ 4.433, 79.   ],\n",
              "       [ 4.3  , 73.   ],\n",
              "       [ 4.467, 77.   ],\n",
              "       [ 3.367, 66.   ],\n",
              "       [ 4.033, 80.   ],\n",
              "       [ 3.833, 74.   ],\n",
              "       [ 2.017, 52.   ],\n",
              "       [ 1.867, 48.   ],\n",
              "       [ 4.833, 80.   ],\n",
              "       [ 1.833, 59.   ],\n",
              "       [ 4.783, 90.   ],\n",
              "       [ 4.35 , 80.   ],\n",
              "       [ 1.883, 58.   ],\n",
              "       [ 4.567, 84.   ],\n",
              "       [ 1.75 , 58.   ],\n",
              "       [ 4.533, 73.   ],\n",
              "       [ 3.317, 83.   ],\n",
              "       [ 3.833, 64.   ],\n",
              "       [ 2.1  , 53.   ],\n",
              "       [ 4.633, 82.   ],\n",
              "       [ 2.   , 59.   ],\n",
              "       [ 4.8  , 75.   ],\n",
              "       [ 4.716, 90.   ],\n",
              "       [ 1.833, 54.   ],\n",
              "       [ 4.833, 80.   ],\n",
              "       [ 1.733, 54.   ],\n",
              "       [ 4.883, 83.   ],\n",
              "       [ 3.717, 71.   ],\n",
              "       [ 1.667, 64.   ],\n",
              "       [ 4.567, 77.   ],\n",
              "       [ 4.317, 81.   ],\n",
              "       [ 2.233, 59.   ],\n",
              "       [ 4.5  , 84.   ],\n",
              "       [ 1.75 , 48.   ],\n",
              "       [ 4.8  , 82.   ],\n",
              "       [ 1.817, 60.   ],\n",
              "       [ 4.4  , 92.   ],\n",
              "       [ 4.167, 78.   ],\n",
              "       [ 4.7  , 78.   ],\n",
              "       [ 2.067, 65.   ],\n",
              "       [ 4.7  , 73.   ],\n",
              "       [ 4.033, 82.   ],\n",
              "       [ 1.967, 56.   ],\n",
              "       [ 4.5  , 79.   ],\n",
              "       [ 4.   , 71.   ],\n",
              "       [ 1.983, 62.   ],\n",
              "       [ 5.067, 76.   ],\n",
              "       [ 2.017, 60.   ],\n",
              "       [ 4.567, 78.   ],\n",
              "       [ 3.883, 76.   ],\n",
              "       [ 3.6  , 83.   ],\n",
              "       [ 4.133, 75.   ],\n",
              "       [ 4.333, 82.   ],\n",
              "       [ 4.1  , 70.   ],\n",
              "       [ 2.633, 65.   ],\n",
              "       [ 4.067, 73.   ],\n",
              "       [ 4.933, 88.   ],\n",
              "       [ 3.95 , 76.   ],\n",
              "       [ 4.517, 80.   ],\n",
              "       [ 2.167, 48.   ],\n",
              "       [ 4.   , 86.   ],\n",
              "       [ 2.2  , 60.   ],\n",
              "       [ 4.333, 90.   ],\n",
              "       [ 1.867, 50.   ],\n",
              "       [ 4.817, 78.   ],\n",
              "       [ 1.833, 63.   ],\n",
              "       [ 4.3  , 72.   ],\n",
              "       [ 4.667, 84.   ],\n",
              "       [ 3.75 , 75.   ],\n",
              "       [ 1.867, 51.   ],\n",
              "       [ 4.9  , 82.   ],\n",
              "       [ 2.483, 62.   ],\n",
              "       [ 4.367, 88.   ],\n",
              "       [ 2.1  , 49.   ],\n",
              "       [ 4.5  , 83.   ],\n",
              "       [ 4.05 , 81.   ],\n",
              "       [ 1.867, 47.   ],\n",
              "       [ 4.7  , 84.   ],\n",
              "       [ 1.783, 52.   ],\n",
              "       [ 4.85 , 86.   ],\n",
              "       [ 3.683, 81.   ],\n",
              "       [ 4.733, 75.   ],\n",
              "       [ 2.3  , 59.   ],\n",
              "       [ 4.9  , 89.   ],\n",
              "       [ 4.417, 79.   ],\n",
              "       [ 1.7  , 59.   ],\n",
              "       [ 4.633, 81.   ],\n",
              "       [ 2.317, 50.   ],\n",
              "       [ 4.6  , 85.   ],\n",
              "       [ 1.817, 59.   ],\n",
              "       [ 4.417, 87.   ],\n",
              "       [ 2.617, 53.   ],\n",
              "       [ 4.067, 69.   ],\n",
              "       [ 4.25 , 77.   ],\n",
              "       [ 1.967, 56.   ],\n",
              "       [ 4.6  , 88.   ],\n",
              "       [ 3.767, 81.   ],\n",
              "       [ 1.917, 45.   ],\n",
              "       [ 4.5  , 82.   ],\n",
              "       [ 2.267, 55.   ],\n",
              "       [ 4.65 , 90.   ],\n",
              "       [ 1.867, 45.   ],\n",
              "       [ 4.167, 83.   ],\n",
              "       [ 2.8  , 56.   ],\n",
              "       [ 4.333, 89.   ],\n",
              "       [ 1.833, 46.   ],\n",
              "       [ 4.383, 82.   ],\n",
              "       [ 1.883, 51.   ],\n",
              "       [ 4.933, 86.   ],\n",
              "       [ 2.033, 53.   ],\n",
              "       [ 3.733, 79.   ],\n",
              "       [ 4.233, 81.   ],\n",
              "       [ 2.233, 60.   ],\n",
              "       [ 4.533, 82.   ],\n",
              "       [ 4.817, 77.   ],\n",
              "       [ 4.333, 76.   ],\n",
              "       [ 1.983, 59.   ],\n",
              "       [ 4.633, 80.   ],\n",
              "       [ 2.017, 49.   ],\n",
              "       [ 5.1  , 96.   ],\n",
              "       [ 1.8  , 53.   ],\n",
              "       [ 5.033, 77.   ],\n",
              "       [ 4.   , 77.   ],\n",
              "       [ 2.4  , 65.   ],\n",
              "       [ 4.6  , 81.   ],\n",
              "       [ 3.567, 71.   ],\n",
              "       [ 4.   , 70.   ],\n",
              "       [ 4.5  , 81.   ],\n",
              "       [ 4.083, 93.   ],\n",
              "       [ 1.8  , 53.   ],\n",
              "       [ 3.967, 89.   ],\n",
              "       [ 2.2  , 45.   ],\n",
              "       [ 4.15 , 86.   ],\n",
              "       [ 2.   , 58.   ],\n",
              "       [ 3.833, 78.   ],\n",
              "       [ 3.5  , 66.   ],\n",
              "       [ 4.583, 76.   ],\n",
              "       [ 2.367, 63.   ],\n",
              "       [ 5.   , 88.   ],\n",
              "       [ 1.933, 52.   ],\n",
              "       [ 4.617, 93.   ],\n",
              "       [ 1.917, 49.   ],\n",
              "       [ 2.083, 57.   ],\n",
              "       [ 4.583, 77.   ],\n",
              "       [ 3.333, 68.   ],\n",
              "       [ 4.167, 81.   ],\n",
              "       [ 4.333, 81.   ],\n",
              "       [ 4.5  , 73.   ],\n",
              "       [ 2.417, 50.   ],\n",
              "       [ 4.   , 85.   ],\n",
              "       [ 4.167, 74.   ],\n",
              "       [ 1.883, 55.   ],\n",
              "       [ 4.583, 77.   ],\n",
              "       [ 4.25 , 83.   ],\n",
              "       [ 3.767, 83.   ],\n",
              "       [ 2.033, 51.   ],\n",
              "       [ 4.433, 78.   ],\n",
              "       [ 4.083, 84.   ],\n",
              "       [ 1.833, 46.   ],\n",
              "       [ 4.417, 83.   ],\n",
              "       [ 2.183, 55.   ],\n",
              "       [ 4.8  , 81.   ],\n",
              "       [ 1.833, 57.   ],\n",
              "       [ 4.8  , 76.   ],\n",
              "       [ 4.1  , 84.   ],\n",
              "       [ 3.966, 77.   ],\n",
              "       [ 4.233, 81.   ],\n",
              "       [ 3.5  , 87.   ],\n",
              "       [ 4.366, 77.   ],\n",
              "       [ 2.25 , 51.   ],\n",
              "       [ 4.667, 78.   ],\n",
              "       [ 2.1  , 60.   ],\n",
              "       [ 4.35 , 82.   ],\n",
              "       [ 4.133, 91.   ],\n",
              "       [ 1.867, 53.   ],\n",
              "       [ 4.6  , 78.   ],\n",
              "       [ 1.783, 46.   ],\n",
              "       [ 4.367, 77.   ],\n",
              "       [ 3.85 , 84.   ],\n",
              "       [ 1.933, 49.   ],\n",
              "       [ 4.5  , 83.   ],\n",
              "       [ 2.383, 71.   ],\n",
              "       [ 4.7  , 80.   ],\n",
              "       [ 1.867, 49.   ],\n",
              "       [ 3.833, 75.   ],\n",
              "       [ 3.417, 64.   ],\n",
              "       [ 4.233, 76.   ],\n",
              "       [ 2.4  , 53.   ],\n",
              "       [ 4.8  , 94.   ],\n",
              "       [ 2.   , 55.   ],\n",
              "       [ 4.15 , 76.   ],\n",
              "       [ 1.867, 50.   ],\n",
              "       [ 4.267, 82.   ],\n",
              "       [ 1.75 , 54.   ],\n",
              "       [ 4.483, 75.   ],\n",
              "       [ 4.   , 78.   ],\n",
              "       [ 4.117, 79.   ],\n",
              "       [ 4.083, 78.   ],\n",
              "       [ 4.267, 78.   ],\n",
              "       [ 3.917, 70.   ],\n",
              "       [ 4.55 , 79.   ],\n",
              "       [ 4.083, 70.   ],\n",
              "       [ 2.417, 54.   ],\n",
              "       [ 4.183, 86.   ],\n",
              "       [ 2.217, 50.   ],\n",
              "       [ 4.45 , 90.   ],\n",
              "       [ 1.883, 54.   ],\n",
              "       [ 1.85 , 54.   ],\n",
              "       [ 4.283, 77.   ],\n",
              "       [ 3.95 , 79.   ],\n",
              "       [ 2.333, 64.   ],\n",
              "       [ 4.15 , 75.   ],\n",
              "       [ 2.35 , 47.   ],\n",
              "       [ 4.933, 86.   ],\n",
              "       [ 2.9  , 63.   ],\n",
              "       [ 4.583, 85.   ],\n",
              "       [ 3.833, 82.   ],\n",
              "       [ 2.083, 57.   ],\n",
              "       [ 4.367, 82.   ],\n",
              "       [ 2.133, 67.   ],\n",
              "       [ 4.35 , 74.   ],\n",
              "       [ 2.2  , 54.   ],\n",
              "       [ 4.45 , 83.   ],\n",
              "       [ 3.567, 73.   ],\n",
              "       [ 4.5  , 73.   ],\n",
              "       [ 4.15 , 88.   ],\n",
              "       [ 3.817, 80.   ],\n",
              "       [ 3.917, 71.   ],\n",
              "       [ 4.45 , 83.   ],\n",
              "       [ 2.   , 56.   ],\n",
              "       [ 4.283, 79.   ],\n",
              "       [ 4.767, 78.   ],\n",
              "       [ 4.533, 84.   ],\n",
              "       [ 1.85 , 58.   ],\n",
              "       [ 4.25 , 83.   ],\n",
              "       [ 1.983, 43.   ],\n",
              "       [ 2.25 , 60.   ],\n",
              "       [ 4.75 , 75.   ],\n",
              "       [ 4.117, 81.   ],\n",
              "       [ 2.15 , 46.   ],\n",
              "       [ 4.417, 90.   ],\n",
              "       [ 1.817, 46.   ],\n",
              "       [ 4.467, 74.   ]])"
            ]
          },
          "metadata": {},
          "execution_count": 4
        }
      ]
    },
    {
      "cell_type": "code",
      "source": [
        "# we now build the KMeans model\n",
        "kmeans = KMeans(n_clusters=2, # specifies the number of clusters (can be based on intuition)\n",
        "                init = 'random', # specifies how we want to initialize the centroids\n",
        "                max_iter = 300, # want to specify the maximum number of iterations we will allow for kmeans\n",
        "                )\n",
        "kmeans.fit(X) # 'fit' method will fit the kmeans model to the faithful dataset"
      ],
      "metadata": {
        "colab": {
          "base_uri": "https://localhost:8080/"
        },
        "id": "k9dyOxGiXlaU",
        "outputId": "e1d9c2a1-d488-4a3a-debc-af9737419fbc"
      },
      "execution_count": 5,
      "outputs": [
        {
          "output_type": "execute_result",
          "data": {
            "text/plain": [
              "KMeans(init='random', n_clusters=2)"
            ]
          },
          "metadata": {},
          "execution_count": 5
        }
      ]
    },
    {
      "cell_type": "code",
      "source": [
        "print('Cluster Centers:', kmeans.cluster_centers_[0], kmeans.cluster_centers_[1])\n",
        "print('SSE:', kmeans.inertia_)\n",
        "print('# of iterations:', kmeans.n_iter_)"
      ],
      "metadata": {
        "colab": {
          "base_uri": "https://localhost:8080/"
        },
        "id": "PL4MOMvnXq_h",
        "outputId": "2f1a8428-e4f3-43bb-9c5d-8ee7f7afd842"
      },
      "execution_count": 6,
      "outputs": [
        {
          "output_type": "stream",
          "name": "stdout",
          "text": [
            "Cluster Centers: [ 4.29793023 80.28488372] [ 2.09433 54.75   ]\n",
            "SSE: 8901.768720947211\n",
            "# of iterations: 6\n"
          ]
        }
      ]
    },
    {
      "cell_type": "code",
      "source": [
        "flags = kmeans.labels_ # shows the classifications that resulted from the model fit\n",
        "flags"
      ],
      "metadata": {
        "colab": {
          "base_uri": "https://localhost:8080/"
        },
        "id": "NYiqFzuVX13y",
        "outputId": "04dcea01-8c5a-4e00-f1f4-a895c51d21d4"
      },
      "execution_count": 7,
      "outputs": [
        {
          "output_type": "execute_result",
          "data": {
            "text/plain": [
              "array([0, 1, 0, 1, 0, 1, 0, 0, 1, 0, 1, 0, 0, 1, 0, 1, 1, 0, 1, 0, 1, 1,\n",
              "       0, 0, 0, 0, 1, 0, 0, 0, 0, 0, 1, 0, 0, 1, 1, 0, 1, 0, 0, 1, 0, 1,\n",
              "       0, 0, 1, 1, 0, 1, 0, 0, 1, 0, 1, 0, 0, 1, 0, 0, 1, 0, 1, 0, 1, 0,\n",
              "       0, 0, 1, 0, 0, 1, 0, 0, 1, 0, 1, 0, 0, 0, 0, 0, 0, 1, 0, 0, 0, 0,\n",
              "       1, 0, 1, 0, 1, 0, 1, 0, 0, 0, 1, 0, 1, 0, 1, 0, 0, 1, 0, 1, 0, 0,\n",
              "       0, 1, 0, 0, 1, 0, 1, 0, 1, 0, 1, 0, 0, 1, 0, 0, 1, 0, 1, 0, 1, 0,\n",
              "       1, 0, 1, 0, 1, 0, 1, 0, 0, 1, 0, 0, 0, 1, 0, 1, 0, 1, 0, 0, 1, 0,\n",
              "       0, 0, 0, 0, 1, 0, 1, 0, 1, 0, 1, 0, 1, 0, 1, 0, 1, 1, 0, 0, 0, 0,\n",
              "       0, 1, 0, 0, 1, 0, 0, 0, 1, 0, 0, 1, 0, 1, 0, 1, 0, 0, 0, 0, 0, 0,\n",
              "       1, 0, 1, 0, 0, 1, 0, 1, 0, 0, 1, 0, 0, 0, 1, 0, 1, 0, 1, 0, 1, 0,\n",
              "       1, 0, 1, 0, 0, 0, 0, 0, 0, 0, 0, 1, 0, 1, 0, 1, 1, 0, 0, 1, 0, 1,\n",
              "       0, 1, 0, 0, 1, 0, 1, 0, 1, 0, 0, 0, 0, 0, 0, 0, 1, 0, 0, 0, 1, 0,\n",
              "       1, 1, 0, 0, 1, 0, 1, 0], dtype=int32)"
            ]
          },
          "metadata": {},
          "execution_count": 7
        }
      ]
    },
    {
      "cell_type": "code",
      "source": [
        "flags = kmeans.labels_ # shows the classifications that resulted from the model fit\n",
        "flags"
      ],
      "metadata": {
        "colab": {
          "base_uri": "https://localhost:8080/"
        },
        "id": "CfbYyyOPX3Cu",
        "outputId": "2d3c13a6-d757-4add-a38b-563f802d68fc"
      },
      "execution_count": 8,
      "outputs": [
        {
          "output_type": "execute_result",
          "data": {
            "text/plain": [
              "array([0, 1, 0, 1, 0, 1, 0, 0, 1, 0, 1, 0, 0, 1, 0, 1, 1, 0, 1, 0, 1, 1,\n",
              "       0, 0, 0, 0, 1, 0, 0, 0, 0, 0, 1, 0, 0, 1, 1, 0, 1, 0, 0, 1, 0, 1,\n",
              "       0, 0, 1, 1, 0, 1, 0, 0, 1, 0, 1, 0, 0, 1, 0, 0, 1, 0, 1, 0, 1, 0,\n",
              "       0, 0, 1, 0, 0, 1, 0, 0, 1, 0, 1, 0, 0, 0, 0, 0, 0, 1, 0, 0, 0, 0,\n",
              "       1, 0, 1, 0, 1, 0, 1, 0, 0, 0, 1, 0, 1, 0, 1, 0, 0, 1, 0, 1, 0, 0,\n",
              "       0, 1, 0, 0, 1, 0, 1, 0, 1, 0, 1, 0, 0, 1, 0, 0, 1, 0, 1, 0, 1, 0,\n",
              "       1, 0, 1, 0, 1, 0, 1, 0, 0, 1, 0, 0, 0, 1, 0, 1, 0, 1, 0, 0, 1, 0,\n",
              "       0, 0, 0, 0, 1, 0, 1, 0, 1, 0, 1, 0, 1, 0, 1, 0, 1, 1, 0, 0, 0, 0,\n",
              "       0, 1, 0, 0, 1, 0, 0, 0, 1, 0, 0, 1, 0, 1, 0, 1, 0, 0, 0, 0, 0, 0,\n",
              "       1, 0, 1, 0, 0, 1, 0, 1, 0, 0, 1, 0, 0, 0, 1, 0, 1, 0, 1, 0, 1, 0,\n",
              "       1, 0, 1, 0, 0, 0, 0, 0, 0, 0, 0, 1, 0, 1, 0, 1, 1, 0, 0, 1, 0, 1,\n",
              "       0, 1, 0, 0, 1, 0, 1, 0, 1, 0, 0, 0, 0, 0, 0, 0, 1, 0, 0, 0, 1, 0,\n",
              "       1, 1, 0, 0, 1, 0, 1, 0], dtype=int32)"
            ]
          },
          "metadata": {},
          "execution_count": 8
        }
      ]
    },
    {
      "cell_type": "code",
      "source": [
        "category0 = df[flags == 0] # creating a mask that filters for only category 0\n",
        "category1 = df[flags == 1] # creating a mask that filters for only category 1\n",
        "\n",
        "# plotting the categories\n",
        "plt.scatter(category0['eruption'], category0['waiting'], label = 'Category 0')\n",
        "plt.scatter(category1['eruption'], category1['waiting'], label = 'Category 1')\n",
        "\n",
        "plt.title('Faithful Eruption Dataset')\n",
        "plt.xlabel('Eruption Length (minutes)')\n",
        "plt.ylabel('Waiting Time b/w Eruptions (minutes)')\n",
        "plt.legend(loc = 'lower right')"
      ],
      "metadata": {
        "colab": {
          "base_uri": "https://localhost:8080/",
          "height": 312
        },
        "id": "80LE2HNqYWxg",
        "outputId": "30d2447d-9eae-4747-8383-26799ab2e58f"
      },
      "execution_count": 9,
      "outputs": [
        {
          "output_type": "execute_result",
          "data": {
            "text/plain": [
              "<matplotlib.legend.Legend at 0x7f0a92cf92b0>"
            ]
          },
          "metadata": {},
          "execution_count": 9
        },
        {
          "output_type": "display_data",
          "data": {
            "text/plain": [
              "<Figure size 432x288 with 1 Axes>"
            ],
            "image/png": "[encoded data removed]"
          },
          "metadata": {
            "needs_background": "light"
          }
        }
      ]
    },
    {
      "cell_type": "code",
      "source": [
        "kmeans.predict([[3, 75.2]])"
      ],
      "metadata": {
        "colab": {
          "base_uri": "https://localhost:8080/"
        },
        "id": "XBSMLt-uYsBW",
        "outputId": "1123680b-f8ff-4f80-8089-85fd0bac2cf3"
      },
      "execution_count": 10,
      "outputs": [
        {
          "output_type": "execute_result",
          "data": {
            "text/plain": [
              "array([0], dtype=int32)"
            ]
          },
          "metadata": {},
          "execution_count": 10
        }
      ]
    }
  ]
}